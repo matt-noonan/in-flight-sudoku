{
 "cells": [
  {
   "cell_type": "code",
   "execution_count": 1,
   "metadata": {},
   "outputs": [],
   "source": [
    "data Cell = Cell Int Int deriving (Eq, Ord, Show)\n",
    "\n",
    "coords :: Cell -> (Int,Int)\n",
    "coords (Cell x y) = (x+1,y+1)\n",
    "\n",
    "data Group = Vertical Int | Horizontal Int | Square Int Int deriving (Eq, Ord, Show)\n",
    "\n",
    "groups :: Cell -> [Group]\n",
    "groups (Cell x y) = [Vertical x, Horizontal y, Square (x `div` 3) (y `div` 3)] \n",
    "\n",
    "cells :: Group -> [Cell]\n",
    "cells (Vertical n)   = [Cell n k | k <- [0..8]]\n",
    "cells (Horizontal n) = [Cell k n | k <- [0..8]]\n",
    "cells (Square i j)   = [Cell (3*i+m) (3*j+n) | m <- [0..2], n <- [0..2]]\n",
    "\n",
    "allCells :: [Cell]\n",
    "allCells = [Cell i j | j <- [0..8], i <- [0..8]]\n",
    "\n",
    "allGroups :: [Group]\n",
    "allGroups = [Vertical x   | x <- [0..8]] ++\n",
    "            [Horizontal y | y <- [0..8]] ++\n",
    "            [Square x y   | x <- [0..2]\n",
    "                          , y <- [0..2]]"
   ]
  },
  {
   "cell_type": "code",
   "execution_count": 2,
   "metadata": {},
   "outputs": [],
   "source": [
    "import Data.Map (Map)\n",
    "import qualified Data.Map as M\n",
    "\n",
    "type Board = Map Cell (Maybe Int)"
   ]
  },
  {
   "cell_type": "code",
   "execution_count": 4,
   "metadata": {},
   "outputs": [],
   "source": [
    "{-# LANGUAGE ScopedTypeVariables #-}\n",
    "\n",
    "boardFromString :: String -> Board\n",
    "boardFromString input = M.fromList (zip allCells initial)\n",
    "  where\n",
    "    initial = map (toValue . read) (words input)\n",
    "    toValue (0 :: Int) = Nothing\n",
    "    toValue n = Just n\n"
   ]
  },
  {
   "cell_type": "code",
   "execution_count": 5,
   "metadata": {},
   "outputs": [],
   "source": [
    "let d = boardFromString \"0 0 0 0 6 0 0 0 1 1 0 0 0 0 5 0 6 0 0 6 2 8 3 1 0 0 0 0 8 0 0 0 0 0 9 3 0 0 9 5 0 7 4 0 0 6 5 0 0 0 0 0 7 0 0 0 0 1 7 3 9 2 0 0 1 0 9 0 0 0 0 7 8 0 0 0 5 0 0 0 0\""
   ]
  },
  {
   "cell_type": "code",
   "execution_count": 6,
   "metadata": {},
   "outputs": [],
   "source": [
    "import Control.Monad\n",
    "import Data.Maybe\n",
    "\n",
    "getValue :: Cell -> Board -> Maybe Int\n",
    "getValue c board = case M.lookup c board of\n",
    "  Just (Nothing) -> Nothing\n",
    "  Just (Just n)  -> Just n\n",
    "\n",
    "showBoard :: Board -> IO ()\n",
    "showBoard board = do\n",
    "  let horiz = \"+-----------+-----------+-----------+\"\n",
    "  putStrLn horiz\n",
    "  \n",
    "  forM_ [0..8] $ \\y -> do\n",
    "    putStr \"|\"\n",
    "    forM_ [0..8] $ \\x -> do\n",
    "      putStr $ case getValue (Cell x y) board of\n",
    "          Nothing -> \" . \"\n",
    "          Just n  -> \" \" ++ show n ++ \" \"\n",
    "      putStr (if x `mod` 3 == 2 then \"|\" else \" \")\n",
    "    putStrLn \"\"\n",
    "    when (y `mod` 3 == 2) (putStrLn horiz)\n",
    "  "
   ]
  },
  {
   "cell_type": "code",
   "execution_count": 7,
   "metadata": {},
   "outputs": [
    {
     "data": {
      "text/plain": [
       "+-----------+-----------+-----------+\n",
       "| .   .   . | .   6   . | .   .   1 |\n",
       "| 1   .   . | .   .   5 | .   6   . |\n",
       "| .   6   2 | 8   3   1 | .   .   . |\n",
       "+-----------+-----------+-----------+\n",
       "| .   8   . | .   .   . | .   9   3 |\n",
       "| .   .   9 | 5   .   7 | 4   .   . |\n",
       "| 6   5   . | .   .   . | .   7   . |\n",
       "+-----------+-----------+-----------+\n",
       "| .   .   . | 1   7   3 | 9   2   . |\n",
       "| .   1   . | 9   .   . | .   .   7 |\n",
       "| 8   .   . | .   5   . | .   .   . |\n",
       "+-----------+-----------+-----------+"
      ]
     },
     "metadata": {},
     "output_type": "display_data"
    }
   ],
   "source": [
    "showBoard d"
   ]
  },
  {
   "cell_type": "code",
   "execution_count": 8,
   "metadata": {},
   "outputs": [],
   "source": [
    "-- For each cell in the board, gather the set of possible values\n",
    "import Data.Set (Set)\n",
    "import qualified Data.Set as S\n",
    "\n",
    "graph :: (a -> b) -> [a] -> [(a,b)]\n",
    "graph f xs = zip xs (map f xs)\n",
    "\n",
    "possible :: Board -> Map Cell (Set Int)\n",
    "possible board = M.fromList (graph cellPossibilities allCells)\n",
    "  where\n",
    "    cellPossibilities c = case getValue c board of\n",
    "      Just n  -> S.singleton n\n",
    "      Nothing -> S.fromList [1..9] `S.difference` adjacentValues c board\n",
    "\n",
    "missing :: Board -> Map Group (Set Int)\n",
    "missing board = M.fromList (graph groupRequirements allGroups)\n",
    "  where\n",
    "    groupRequirements g = S.fromList [1..9] `S.difference` S.fromList (mapMaybe (`getValue` board) (cells g))\n",
    "    \n",
    "adjacentValues :: Cell -> Board -> Set Int\n",
    "adjacentValues c board = S.fromList $ mapMaybe (`getValue` board) (concatMap cells (groups c))"
   ]
  },
  {
   "cell_type": "code",
   "execution_count": 9,
   "metadata": {},
   "outputs": [],
   "source": [
    "-- For each group, and each missing value in that group:\n",
    "-- if there is a unique cell in the group that can possibly have that value, then it *must*!\n",
    "\n",
    "theElement :: Set a -> Maybe a\n",
    "theElement s = case S.toList s of\n",
    "  [x] -> Just x\n",
    "  _   -> Nothing\n",
    "  \n",
    "fillRequired :: Board -> Board\n",
    "fillRequired board = M.mapWithKey fill board\n",
    "  where\n",
    "    poss :: Map Cell (Set Int)\n",
    "    poss = possible board\n",
    "    \n",
    "    possibilities :: Cell -> Set Int\n",
    "    possibilities = fromJust . (`M.lookup` poss)\n",
    "    \n",
    "    fill :: Cell -> Maybe Int -> Maybe Int\n",
    "    fill c v@(Just n) = Just n\n",
    "    fill c Nothing = listToMaybe $ mapMaybe (fillInGroup c) (groups c)\n",
    "    \n",
    "    fillInGroup :: Cell -> Group -> Maybe Int\n",
    "    fillInGroup c g = theElement $ possibilities c `S.difference`\n",
    "                                   S.unions (map possibilities (filter (/= c) (cells g)))\n",
    "    \n",
    "-- If any cell has 0 possibilities, then return Nothing; else, Just the input board.\n",
    "isOk :: Board -> Maybe Board\n",
    "isOk board = if filter S.null (map possibilities allCells) == []\n",
    "             then Just board\n",
    "             else Nothing\n",
    "  where\n",
    "    poss :: Map Cell (Set Int)\n",
    "    poss = possible board\n",
    "    \n",
    "    possibilities :: Cell -> Set Int\n",
    "    possibilities = fromJust . (`M.lookup` poss)"
   ]
  },
  {
   "cell_type": "code",
   "execution_count": 10,
   "metadata": {},
   "outputs": [],
   "source": [
    "toFixpt :: Eq a => (a -> Maybe a) -> a -> Maybe a\n",
    "toFixpt f x = let mx' = f x in  case mx' of\n",
    "  Nothing -> Nothing\n",
    "  Just x' -> if (x' == x) then Just x else toFixpt f x'\n"
   ]
  },
  {
   "cell_type": "code",
   "execution_count": 13,
   "metadata": {},
   "outputs": [],
   "source": [
    "import Data.List (sortOn)\n",
    "\n",
    "solve :: Board -> [Board]\n",
    "solve board = case toFixpt (isOk . fillRequired) board of\n",
    "  \n",
    "  Nothing -> []\n",
    "  Just board' -> if isSolved board'\n",
    "                 then [board']\n",
    "                 else concatMap solve (guesses board')\n",
    "  where\n",
    "    \n",
    "    possibilities :: Board -> Cell -> Set Int\n",
    "    possibilities b = let poss = possible b in fromJust . (`M.lookup` poss)\n",
    "\n",
    "    missing b = sortOn (length . snd) [(c, S.toList $ possibilities b c) | (c, Nothing) <- M.toList b]\n",
    "    \n",
    "    guesses b = case missing b of\n",
    "      ((c,gs) : _) -> map (\\g -> M.insert c (Just g) b) gs\n",
    "      [] -> error (show (map (\\c -> S.size (possibilities b c)) allCells))\n",
    "    \n",
    "    isSolved b = all (\\c -> S.size (possibilities b c) == 1) allCells"
   ]
  },
  {
   "cell_type": "code",
   "execution_count": 16,
   "metadata": {},
   "outputs": [
    {
     "data": {
      "text/plain": [
       "+-----------+-----------+-----------+\n",
       "| 4   3   5 | 7   6   9 | 2   8   1 |\n",
       "| 1   7   8 | 4   2   5 | 3   6   9 |\n",
       "| 9   6   2 | 8   3   1 | 7   4   5 |\n",
       "+-----------+-----------+-----------+\n",
       "| 7   8   4 | 2   1   6 | 5   9   3 |\n",
       "| 3   2   9 | 5   8   7 | 4   1   6 |\n",
       "| 6   5   1 | 3   9   4 | 8   7   2 |\n",
       "+-----------+-----------+-----------+\n",
       "| 5   4   6 | 1   7   3 | 9   2   8 |\n",
       "| 2   1   3 | 9   4   8 | 6   5   7 |\n",
       "| 8   9   7 | 6   5   2 | 1   3   4 |\n",
       "+-----------+-----------+-----------+\n",
       "\n",
       "+-----------+-----------+-----------+\n",
       "| 4   3   5 | 7   6   9 | 2   8   1 |\n",
       "| 1   7   8 | 4   2   5 | 3   6   9 |\n",
       "| 9   6   2 | 8   3   1 | 7   4   5 |\n",
       "+-----------+-----------+-----------+\n",
       "| 7   8   4 | 6   1   2 | 5   9   3 |\n",
       "| 3   2   9 | 5   8   7 | 4   1   6 |\n",
       "| 6   5   1 | 3   9   4 | 8   7   2 |\n",
       "+-----------+-----------+-----------+\n",
       "| 5   4   6 | 1   7   3 | 9   2   8 |\n",
       "| 2   1   3 | 9   4   8 | 6   5   7 |\n",
       "| 8   9   7 | 2   5   6 | 1   3   4 |\n",
       "+-----------+-----------+-----------+\n",
       "\n",
       "+-----------+-----------+-----------+\n",
       "| 4   7   5 | 2   6   9 | 8   3   1 |\n",
       "| 1   3   8 | 7   4   5 | 2   6   9 |\n",
       "| 9   6   2 | 8   3   1 | 7   4   5 |\n",
       "+-----------+-----------+-----------+\n",
       "| 7   8   1 | 4   2   6 | 5   9   3 |\n",
       "| 3   2   9 | 5   1   7 | 4   8   6 |\n",
       "| 6   5   4 | 3   9   8 | 1   7   2 |\n",
       "+-----------+-----------+-----------+\n",
       "| 5   4   6 | 1   7   3 | 9   2   8 |\n",
       "| 2   1   3 | 9   8   4 | 6   5   7 |\n",
       "| 8   9   7 | 6   5   2 | 3   1   4 |\n",
       "+-----------+-----------+-----------+"
      ]
     },
     "metadata": {},
     "output_type": "display_data"
    }
   ],
   "source": [
    "forM_ (solve d) $ \\soln -> do\n",
    "  showBoard soln\n",
    "  putStrLn \"\""
   ]
  },
  {
   "cell_type": "code",
   "execution_count": null,
   "metadata": {
    "collapsed": true
   },
   "outputs": [],
   "source": []
  }
 ],
 "metadata": {
  "kernelspec": {
   "display_name": "Haskell",
   "language": "haskell",
   "name": "haskell"
  },
  "language_info": {
   "codemirror_mode": "ihaskell",
   "file_extension": ".hs",
   "name": "haskell",
   "version": "8.0.2"
  }
 },
 "nbformat": 4,
 "nbformat_minor": 2
}
